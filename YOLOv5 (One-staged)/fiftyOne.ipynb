{
 "cells": [
  {
   "cell_type": "code",
   "execution_count": null,
   "id": "d1d86b97",
   "metadata": {},
   "outputs": [],
   "source": [
    "import fiftyone as fo\n",
    "\n",
    "session = fo.launch_app()"
   ]
  },
  {
   "cell_type": "code",
   "execution_count": 2,
   "id": "5da24d39",
   "metadata": {},
   "outputs": [
    {
     "name": "stdout",
     "output_type": "stream",
     "text": [
      " 100% |███████████████| 6049/6049 [1.3m elapsed, 0s remaining, 121.3 samples/s]      \n"
     ]
    }
   ],
   "source": [
    "import fiftyone as fo\n",
    "import os\n",
    "\n",
    "os.chdir(os.path.expanduser(\"~\"))\n",
    "\n",
    "# The directory containing the source images\n",
    "data_path = \"datasets/iSAID/images/val/images\"\n",
    "\n",
    "# The path to the COCO labels JSON file\n",
    "labels_path = \"datasets/iSAID/images/val/val.json\"\n",
    "\n",
    "# Import the dataset\n",
    "dataset = fo.Dataset.from_dir(\n",
    "    dataset_type=fo.types.COCODetectionDataset,\n",
    "    data_path=data_path,\n",
    "    labels_path=labels_path,\n",
    ")"
   ]
  },
  {
   "cell_type": "code",
   "execution_count": 3,
   "id": "4761ac4e",
   "metadata": {},
   "outputs": [
    {
     "data": {
      "text/html": [
       "\n",
       "        <iframe\n",
       "            width=\"100%\"\n",
       "            height=\"800\"\n",
       "            src=\"http://localhost:5151/?notebook=true&handleId=7b831fed-7d17-4dbf-9016-d142ec126345\"\n",
       "            frameborder=\"0\"\n",
       "            allowfullscreen\n",
       "            \n",
       "        ></iframe>\n",
       "        "
      ],
      "text/plain": [
       "<IPython.lib.display.IFrame at 0x7fa8db1e0340>"
      ]
     },
     "metadata": {},
     "output_type": "display_data"
    }
   ],
   "source": [
    "session = fo.launch_app(dataset)"
   ]
  },
  {
   "cell_type": "code",
   "execution_count": null,
   "id": "8cdfb04d",
   "metadata": {},
   "outputs": [],
   "source": [
    "# import os\n",
    "\n",
    "# print(os.getcwd())\n",
    "# os.chdir(os.path.expanduser(\"~\"))\n",
    "# print(os.listdir())\n",
    "\n",
    "# # os.chdir('~/datasets')"
   ]
  },
  {
   "cell_type": "code",
   "execution_count": null,
   "id": "c16b50cc",
   "metadata": {},
   "outputs": [],
   "source": []
  }
 ],
 "metadata": {
  "kernelspec": {
   "display_name": "Python 3 (ipykernel)",
   "language": "python",
   "name": "python3"
  },
  "language_info": {
   "codemirror_mode": {
    "name": "ipython",
    "version": 3
   },
   "file_extension": ".py",
   "mimetype": "text/x-python",
   "name": "python",
   "nbconvert_exporter": "python",
   "pygments_lexer": "ipython3",
   "version": "3.8.12"
  }
 },
 "nbformat": 4,
 "nbformat_minor": 5
}
